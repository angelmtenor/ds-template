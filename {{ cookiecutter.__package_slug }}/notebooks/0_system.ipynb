{
 "cells": [
  {
   "cell_type": "markdown",
   "metadata": {},
   "source": [
    "# Generic System functions\n",
    "\n",
    "Angel Martinez-Tenor"
   ]
  },
  {
   "cell_type": "code",
   "execution_count": null,
   "metadata": {},
   "outputs": [],
   "source": [
    "%load_ext autoreload\n",
    "%autoreload 2\n",
    "\n",
    "from {{ cookiecutter.__package_slug }} import logger\n",
    "from {{ cookiecutter.__package_slug }}.utils.system import info_system, load_env_file\n",
    "\n",
    "\n",
    "log = logger.init(level=\"DEBUG\", save_log=True)  # , simple_format=False)\n",
    "\n",
    "log.info(\"Hello World!\")\n",
    "\n",
    "log.debug(info_system())\n",
    "load_env_file(show=True)"
   ]
  }
 ],
 "metadata": {
  "kernelspec": {
   "display_name": "Python 3.10.6 ('dev')",
   "language": "python",
   "name": "python3"
  },
  "language_info": {
   "codemirror_mode": {
    "name": "ipython",
    "version": 3
   },
   "file_extension": ".py",
   "mimetype": "text/x-python",
   "name": "python",
   "nbconvert_exporter": "python",
   "pygments_lexer": "ipython3",
   "version": "3.12.3"
  },
  "orig_nbformat": 4,
  "vscode": {
   "interpreter": {
    "hash": "ba21dfc4ba5a95a7321495afb10ba8f5af467b9ac3eb0e012f2ea394d33332bf"
   }
  }
 },
 "nbformat": 4,
 "nbformat_minor": 2
}
